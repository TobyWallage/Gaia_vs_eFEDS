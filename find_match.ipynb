{
 "cells": [
  {
   "cell_type": "code",
   "execution_count": 1,
   "metadata": {},
   "outputs": [],
   "source": [
    "from astropy.table import Table\n",
    "import numpy as np"
   ]
  },
  {
   "cell_type": "markdown",
   "metadata": {},
   "source": [
    "for quasar data, used query:\n",
    "```sql\n",
    "SELECT t.source_id, t.ra, t.dec\n",
    "FROM gaiadr3.gaia_source AS t, gaiadr3.qso_candidates AS i\n",
    "WHERE t.source_id = i.source_id AND t.dec < 6.0 AND t.dec > -3.0 AND t.ra > 125 AND t.ra < 148 AND i.classlabel_dsc = 'quasar'\n",
    "```"
   ]
  },
  {
   "cell_type": "code",
   "execution_count": 2,
   "metadata": {},
   "outputs": [
    {
     "name": "stderr",
     "output_type": "stream",
     "text": [
      "WARNING: OverflowError converting to IntType in column source_id, reverting to String. [astropy.io.ascii.fastbasic]\n"
     ]
    }
   ],
   "source": [
    "quasar_data = Table.read('Quasar_data.csv')\n",
    "cluster_data = Table.read('cluster_data.csv')"
   ]
  },
  {
   "cell_type": "code",
   "execution_count": 3,
   "metadata": {},
   "outputs": [
    {
     "data": {
      "text/html": [
       "<i>Row index=1</i>\n",
       "<table id=\"table2637504368256\">\n",
       "<thead><tr><th>ID</th><th>ID_SRC</th><th>RA</th><th>DEC</th><th>EXT_LIKE</th><th>DET_LIKE</th><th>z</th><th>z_type</th><th>T_300kpc</th><th>T_300kpc_L</th><th>T_300kpc_U</th><th>L_300kpc</th><th>L_300kpc_L</th><th>L_300kpc_U</th><th>Lbol_300kpc</th><th>Lbol_300kpc_L</th><th>Lbol_300kpc_U</th><th>F_300kpc</th><th>F_300kpc_L</th><th>F_300kpc_U</th><th>T_500kpc</th><th>T_500kpc_L</th><th>T_500kpc_U</th><th>L_500kpc</th><th>L_500kpc_L</th><th>L_500kpc_U</th><th>Lbol_500kpc</th><th>Lbol_500kpc_L</th><th>Lbol_500kpc_U</th><th>F_500kpc</th><th>F_500kpc_L</th><th>F_500kpc_U</th><th>SNR_MAX</th><th>R_SNR_MAX</th></tr></thead>\n",
       "<thead><tr><th>str22</th><th>int32</th><th>float64</th><th>float64</th><th>float64</th><th>float64</th><th>float64</th><th>int32</th><th>float64</th><th>float64</th><th>float64</th><th>float64</th><th>float64</th><th>float64</th><th>float64</th><th>float64</th><th>float64</th><th>float64</th><th>float64</th><th>float64</th><th>float64</th><th>float64</th><th>float64</th><th>float64</th><th>float64</th><th>float64</th><th>float64</th><th>float64</th><th>float64</th><th>float64</th><th>float64</th><th>float64</th><th>float64</th><th>float64</th></tr></thead>\n",
       "<tr><td>eFEDS J082751.7-002853</td><td>11248</td><td>126.96547052351899</td><td>-0.4816375760468516</td><td>12.791595</td><td>27.86591</td><td>0.25716</td><td>0</td><td>-1.0</td><td>-1.0</td><td>-1.0</td><td>-1.0</td><td>-1.0</td><td>1.0191e+43</td><td>-1.0</td><td>-1.0</td><td>1.7219e+43</td><td>-1.0</td><td>-1.0</td><td>4.7107e-14</td><td>-1.0</td><td>-1.0</td><td>-1.0</td><td>-1.0</td><td>-1.0</td><td>1.0611e+43</td><td>-1.0</td><td>-1.0</td><td>1.7963e+43</td><td>-1.0</td><td>-1.0</td><td>4.9033e-14</td><td>3.07</td><td>0.7393</td></tr>\n",
       "</table>"
      ],
      "text/plain": [
       "<Row index=1>\n",
       "          ID           ID_SRC         RA                 DEC          EXT_LIKE DET_LIKE    z    z_type T_300kpc T_300kpc_L T_300kpc_U L_300kpc L_300kpc_L L_300kpc_U Lbol_300kpc Lbol_300kpc_L Lbol_300kpc_U F_300kpc F_300kpc_L F_300kpc_U T_500kpc T_500kpc_L T_500kpc_U L_500kpc L_500kpc_L L_500kpc_U Lbol_500kpc Lbol_500kpc_L Lbol_500kpc_U F_500kpc F_500kpc_L F_500kpc_U SNR_MAX R_SNR_MAX\n",
       "        str22          int32       float64             float64        float64  float64  float64 int32  float64   float64    float64   float64   float64    float64     float64      float64       float64    float64   float64    float64   float64   float64    float64   float64   float64    float64     float64      float64       float64    float64   float64    float64   float64  float64 \n",
       "---------------------- ------ ------------------ ------------------- --------- -------- ------- ------ -------- ---------- ---------- -------- ---------- ---------- ----------- ------------- ------------- -------- ---------- ---------- -------- ---------- ---------- -------- ---------- ---------- ----------- ------------- ------------- -------- ---------- ---------- ------- ---------\n",
       "eFEDS J082751.7-002853  11248 126.96547052351899 -0.4816375760468516 12.791595 27.86591 0.25716      0     -1.0       -1.0       -1.0     -1.0       -1.0 1.0191e+43        -1.0          -1.0    1.7219e+43     -1.0       -1.0 4.7107e-14     -1.0       -1.0       -1.0     -1.0       -1.0 1.0611e+43        -1.0          -1.0    1.7963e+43     -1.0       -1.0 4.9033e-14    3.07    0.7393"
      ]
     },
     "execution_count": 3,
     "metadata": {},
     "output_type": "execute_result"
    }
   ],
   "source": [
    "cluster_data[1]"
   ]
  },
  {
   "cell_type": "code",
   "execution_count": 4,
   "metadata": {},
   "outputs": [
    {
     "data": {
      "text/html": [
       "<i>Row index=1</i>\n",
       "<table id=\"table2637504390768\">\n",
       "<thead><tr><th>source_id</th><th>ra</th><th>dec</th></tr></thead>\n",
       "<thead><tr><th>str19</th><th>float64</th><th>float64</th></tr></thead>\n",
       "<tr><td>3090033260698985472</td><td>125.20060237716548</td><td>1.27928355298535</td></tr>\n",
       "</table>"
      ],
      "text/plain": [
       "<Row index=1>\n",
       "     source_id              ra               dec       \n",
       "       str19             float64           float64     \n",
       "------------------- ------------------ ----------------\n",
       "3090033260698985472 125.20060237716548 1.27928355298535"
      ]
     },
     "execution_count": 4,
     "metadata": {},
     "output_type": "execute_result"
    }
   ],
   "source": [
    "quasar_data[1]"
   ]
  },
  {
   "cell_type": "code",
   "execution_count": 5,
   "metadata": {},
   "outputs": [],
   "source": [
    "quasar_data['ra_rad'] = np.radians(quasar_data['ra'])\n",
    "quasar_data['dec_rad'] = np.radians(quasar_data['dec'])"
   ]
  },
  {
   "cell_type": "code",
   "execution_count": 6,
   "metadata": {},
   "outputs": [
    {
     "name": "stdout",
     "output_type": "stream",
     "text": [
      "eFEDS ID :  3198  Matched to quasar ID:  3080001930786796544\n",
      "eFEDS ID :  7902  Matched to quasar ID:  3079964409952469120\n",
      "eFEDS ID :  4348  Matched to quasar ID:  580153157163265152\n",
      "eFEDS ID :  1527  Matched to quasar ID:  3841007360398241536\n",
      "eFEDS ID :  3773  Matched to quasar ID:  3850846340196281344\n",
      "5\n",
      "0\n"
     ]
    }
   ],
   "source": [
    "\n",
    "matches_found = 0\n",
    "five_arc_minutes = 0.08333333 #degrees\n",
    "five_arc_seconds = 0.00138889 #degrees\n",
    "rejection_list= [1644,3334,8602,5909,8922,9463,13484,13299,11754,5702,6840]\n",
    "rejected = 0\n",
    "for cluster in cluster_data:\n",
    "    a_b = np.radians(cluster['RA'])\n",
    "    d_b = np.radians(cluster['DEC'])\n",
    "\n",
    "    angles = np.arccos(np.sin(quasar_data['dec_rad'])*np.sin(d_b) + np.cos(quasar_data['dec_rad'])*np.cos(d_b)*np.cos(quasar_data['ra_rad'] - a_b))\n",
    "    matches = angles < np.radians(five_arc_seconds)\n",
    "    count = np.count_nonzero(matches)\n",
    "    if count > 0 :\n",
    "        matched_quasars = quasar_data[matches]\n",
    "        for quasar in matched_quasars:\n",
    "            if not cluster['ID_SRC'] in rejection_list:\n",
    "                print('eFEDS ID : ',cluster['ID_SRC'], ' Matched to quasar ID: ', quasar['source_id'])\n",
    "                matches_found += 1\n",
    "            else:\n",
    "                print('rejected : ','eFEDS ID : ', cluster['ID_SRC'], ' Matched to quasar ID: ', quasar['source_id'])\n",
    "                rejected += 1\n",
    "\n",
    "    # for quasar in quasar_data:\n",
    "    #     a_a = np.radians(quasar['ra'])        \n",
    "    #     d_a = np.radians(quasar['dec'])        \n",
    "    #     angle = np.arccos(np.sin(d_a)*np.sin(d_b) + np.cos(d_a)*np.cos(d_b)*np.cos(a_a - a_b))\n",
    "    #     if angle < np.radians(five_arc_minutes):\n",
    "    #         if not cluster['ID_SRC'] in rejection_list:\n",
    "    #             print('eFEDS ID : ',cluster['ID_SRC'], ' Matched to quasar ID: ', quasar['source_id'])\n",
    "    #             matches_found += 1\n",
    "    #         else:\n",
    "    #             print('rejected : ','eFEDS ID : ', cluster['ID_SRC'], ' Matched to quasar ID: ', quasar['source_id'])\n",
    "    #             rejected += 1\n",
    "            \n",
    "\n",
    "print(matches_found)\n",
    "print(rejected)"
   ]
  },
  {
   "cell_type": "code",
   "execution_count": 7,
   "metadata": {},
   "outputs": [
    {
     "name": "stdout",
     "output_type": "stream",
     "text": [
      "0.24\n"
     ]
    }
   ],
   "source": [
    "# fake_ra = np.random.uniform(np.min(quasar_data['ra_rad']), np.max(quasar_data['ra_rad']), len(quasar_data))\n",
    "# fake_dec = np.random.uniform(np.min(quasar_data['dec_rad']), np.max(quasar_data['dec_rad']), len(quasar_data))\n",
    "count = 0\n",
    "for i in range(100):\n",
    "    fake_ra = np.radians(np.random.uniform(125,148,len(quasar_data)))\n",
    "    fake_dec = np.radians(np.random.uniform(-3,6,len(quasar_data)))\n",
    "    for cluster in cluster_data:\n",
    "        a_b = np.radians(cluster['RA'])\n",
    "        d_b = np.radians(cluster['DEC'])\n",
    "        angles = np.arccos(np.sin(fake_dec)*np.sin(d_b) + np.cos(fake_dec)*np.cos(d_b)*np.cos(fake_ra - a_b))\n",
    "        count += np.count_nonzero(angles < np.radians(five_arc_seconds))\n",
    "\n",
    "print(count/100)"
   ]
  },
  {
   "cell_type": "code",
   "execution_count": null,
   "metadata": {},
   "outputs": [],
   "source": []
  }
 ],
 "metadata": {
  "kernelspec": {
   "display_name": "Python 3.8.5 ('base')",
   "language": "python",
   "name": "python3"
  },
  "language_info": {
   "codemirror_mode": {
    "name": "ipython",
    "version": 3
   },
   "file_extension": ".py",
   "mimetype": "text/x-python",
   "name": "python",
   "nbconvert_exporter": "python",
   "pygments_lexer": "ipython3",
   "version": "3.8.5"
  },
  "orig_nbformat": 4,
  "vscode": {
   "interpreter": {
    "hash": "9b8edf2a7b9ea589f60c2e3cca288fc784a58a69306b5d12142a0a7a54d6c011"
   }
  }
 },
 "nbformat": 4,
 "nbformat_minor": 2
}

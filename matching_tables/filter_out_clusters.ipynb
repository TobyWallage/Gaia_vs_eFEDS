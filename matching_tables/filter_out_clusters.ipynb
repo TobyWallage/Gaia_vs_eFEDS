{
 "cells": [
  {
   "cell_type": "code",
   "execution_count": 1,
   "metadata": {},
   "outputs": [],
   "source": [
    "from astropy.table import Table\n",
    "import numpy as np"
   ]
  },
  {
   "cell_type": "code",
   "execution_count": 6,
   "metadata": {},
   "outputs": [
    {
     "name": "stderr",
     "output_type": "stream",
     "text": [
      "c:\\Users\\Toby\\anaconda3\\lib\\site-packages\\astropy\\io\\ascii\\fastbasic.py:128: AstropyWarning: OverflowError converting to IntType in column source_id, reverting to String.\n",
      "  data, comments = self.engine.read(try_int, try_float, try_string)\n"
     ]
    },
    {
     "data": {
      "text/html": [
       "<i>Row index=0</i>\n",
       "<table id=\"table3082852135408\">\n",
       "<thead><tr><th>Name</th><th>ID_SRC</th><th>ID_hard</th><th>RA_1</th><th>DEC_1</th><th>RA_CORR</th><th>DEC_CORR</th><th>ML_FLUX</th><th>ML_FLUX_ERR</th><th>clust_ID</th><th>clus_ID_SRC</th><th>clus_RA</th><th>clust_DEC</th><th>source_id</th><th>ra_2</th><th>dec_2</th><th>separation_2</th><th>matches</th><th>GroupID</th><th>GroupSize</th><th>Separation</th></tr></thead>\n",
       "<thead><tr><th>str22</th><th>int32</th><th>int32</th><th>float64</th><th>float64</th><th>float64</th><th>float64</th><th>float64</th><th>float64</th><th>str22</th><th>int32</th><th>float64</th><th>float64</th><th>str19</th><th>float64</th><th>float64</th><th>float64</th><th>int32</th><th>int32</th><th>int32</th><th>float64</th></tr></thead>\n",
       "<tr><td>eFEDS J085615.8+014637</td><td>568</td><td>-99</td><td>134.0659401637776</td><td>1.7770132978767106</td><td>134.06592095439217</td><td>1.7769519858923724</td><td>1.3283442e-13</td><td>1.1208479e-14</td><td>eFEDS J085620.7+014649</td><td>569</td><td>134.08645629882812</td><td>1.7804590463638306</td><td>577631903987074048</td><td>134.1126708984375</td><td>1.7099343538284302</td><td>270.8387451171875</td><td>4</td><td>4</td><td>5</td><td>74.96247440183798</td></tr>\n",
       "</table>"
      ],
      "text/plain": [
       "<Row index=0>\n",
       "         Name          ID_SRC ID_hard        RA_1             DEC_1             RA_CORR            DEC_CORR         ML_FLUX     ML_FLUX_ERR         clust_ID        clus_ID_SRC      clus_RA           clust_DEC          source_id             ra_2             dec_2           separation_2   matches GroupID GroupSize     Separation   \n",
       "        str22          int32   int32       float64           float64            float64            float64          float64       float64            str22             int32         float64            float64             str19             float64           float64            float64       int32   int32    int32        float64     \n",
       "---------------------- ------ ------- ----------------- ------------------ ------------------ ------------------ ------------- ------------- ---------------------- ----------- ------------------ ------------------ ------------------ ----------------- ------------------ ----------------- ------- ------- --------- -----------------\n",
       "eFEDS J085615.8+014637    568     -99 134.0659401637776 1.7770132978767106 134.06592095439217 1.7769519858923724 1.3283442e-13 1.1208479e-14 eFEDS J085620.7+014649         569 134.08645629882812 1.7804590463638306 577631903987074048 134.1126708984375 1.7099343538284302 270.8387451171875       4       4         5 74.96247440183798"
      ]
     },
     "execution_count": 6,
     "metadata": {},
     "output_type": "execute_result"
    }
   ],
   "source": [
    "eFEDS = Table.read('eFEDS_sources_matched.csv')\n",
    "eFEDS[0]"
   ]
  },
  {
   "cell_type": "code",
   "execution_count": 10,
   "metadata": {},
   "outputs": [],
   "source": [
    "# Remove rows where ID_SRC == clus_ID_SRC\n",
    "eFEDS_filtered = eFEDS[eFEDS['ID_SRC']!=eFEDS['clus_ID_SRC']]"
   ]
  },
  {
   "cell_type": "code",
   "execution_count": 11,
   "metadata": {},
   "outputs": [],
   "source": [
    "# Remove unneccessary columns\n",
    "eFEDS_filtered.remove_columns(['ID_hard', 'RA_1', 'DEC_1', 'source_id', 'ra_2', 'dec_2', 'separation_2', 'matches', 'GroupID', 'GroupSize'])"
   ]
  },
  {
   "cell_type": "code",
   "execution_count": 13,
   "metadata": {},
   "outputs": [],
   "source": [
    "# rename corrected RADEC columns\n",
    "eFEDS_filtered['RA_CORR'].name = 'src_RA'\n",
    "eFEDS_filtered['DEC_CORR'].name = 'src_DEC'"
   ]
  },
  {
   "cell_type": "code",
   "execution_count": 15,
   "metadata": {},
   "outputs": [],
   "source": [
    "eFEDS_filtered.write('eFEDS_sources_filtered.csv', format='csv')"
   ]
  },
  {
   "cell_type": "code",
   "execution_count": null,
   "metadata": {},
   "outputs": [],
   "source": []
  }
 ],
 "metadata": {
  "kernelspec": {
   "display_name": "Python 3.8.5 ('base')",
   "language": "python",
   "name": "python3"
  },
  "language_info": {
   "codemirror_mode": {
    "name": "ipython",
    "version": 3
   },
   "file_extension": ".py",
   "mimetype": "text/x-python",
   "name": "python",
   "nbconvert_exporter": "python",
   "pygments_lexer": "ipython3",
   "version": "3.8.5"
  },
  "orig_nbformat": 4,
  "vscode": {
   "interpreter": {
    "hash": "9b8edf2a7b9ea589f60c2e3cca288fc784a58a69306b5d12142a0a7a54d6c011"
   }
  }
 },
 "nbformat": 4,
 "nbformat_minor": 2
}

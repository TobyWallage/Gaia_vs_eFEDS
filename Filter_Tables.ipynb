{
 "cells": [
  {
   "cell_type": "code",
   "execution_count": 141,
   "metadata": {},
   "outputs": [],
   "source": [
    "import numpy as np\n",
    "from astropy.table import Table, join\n",
    "from astropy.coordinates import SkyCoord\n",
    "import astropy.units as u"
   ]
  },
  {
   "cell_type": "markdown",
   "metadata": {},
   "source": [
    "Used following query to get GAIA data (https://gea.esac.esa.int/archive/)\n",
    "```SQL\n",
    "SELECT t.source_id, t.ra, t.dec, i.redshift_qsoc, i.classlabel_dsc \n",
    "FROM gaiadr3.gaia_source AS t, gaiadr3.qso_candidates AS i\n",
    "WHERE t.source_id = i.source_id AND t.dec < 6.0 AND t.dec > -3.0 AND t.ra > 125 AND t.ra < 148 \n",
    "```\n",
    "\n",
    "Using eFEDS Cluster Catalogues ID 10 and 11 (from https://erosita.mpe.mpg.de/edr/eROSITAObservations/Catalogues/)<br>\n",
    "All are in CSV format so they are easier to use."
   ]
  },
  {
   "cell_type": "code",
   "execution_count": 142,
   "metadata": {},
   "outputs": [
    {
     "name": "stdout",
     "output_type": "stream",
     "text": [
      "22615\n"
     ]
    },
    {
     "name": "stderr",
     "output_type": "stream",
     "text": [
      "WARNING: OverflowError converting to IntType in column source_id, reverting to String. [astropy.io.ascii.fastbasic]\n"
     ]
    },
    {
     "data": {
      "text/html": [
       "<i>Row index=0</i>\n",
       "<table id=\"table2185025003776\">\n",
       "<thead><tr><th>source_id</th><th>ra</th><th>dec</th><th>redshift_qsoc</th><th>classlabel_dsc</th></tr></thead>\n",
       "<thead><tr><th>str19</th><th>float64</th><th>float64</th><th>float64</th><th>str14</th></tr></thead>\n",
       "<tr><td>3089654921323997696</td><td>125.01336169710326</td><td>1.1099643335828642</td><td>1.5718781</td><td>quasar</td></tr>\n",
       "</table>"
      ],
      "text/plain": [
       "<Row index=0>\n",
       "     source_id              ra                dec         redshift_qsoc classlabel_dsc\n",
       "       str19             float64            float64          float64        str14     \n",
       "------------------- ------------------ ------------------ ------------- --------------\n",
       "3089654921323997696 125.01336169710326 1.1099643335828642     1.5718781         quasar"
      ]
     },
     "execution_count": 142,
     "metadata": {},
     "output_type": "execute_result"
    }
   ],
   "source": [
    "gaia_sources = Table.read('Source_Data/Gaia_QSO_data-result.csv')\n",
    "print(len(gaia_sources))\n",
    "gaia_sources[0]"
   ]
  },
  {
   "cell_type": "markdown",
   "metadata": {},
   "source": [
    "Only include quasars in Gaia sources"
   ]
  },
  {
   "cell_type": "code",
   "execution_count": 143,
   "metadata": {},
   "outputs": [
    {
     "name": "stdout",
     "output_type": "stream",
     "text": [
      "15192\n"
     ]
    }
   ],
   "source": [
    "gaia_sources = gaia_sources[gaia_sources['classlabel_dsc']=='quasar']\n",
    "print(len(gaia_sources))"
   ]
  },
  {
   "cell_type": "markdown",
   "metadata": {},
   "source": [
    "Remove Unused columns from cluster tables"
   ]
  },
  {
   "cell_type": "code",
   "execution_count": 144,
   "metadata": {},
   "outputs": [
    {
     "name": "stdout",
     "output_type": "stream",
     "text": [
      "542\n"
     ]
    },
    {
     "data": {
      "text/html": [
       "<i>Table length=1</i>\n",
       "<table id=\"table2185098206896\" class=\"table-striped table-bordered table-condensed\">\n",
       "<thead><tr><th>ID</th><th>ID_SRC</th><th>RA</th><th>DEC</th><th>z</th></tr></thead>\n",
       "<thead><tr><th>str22</th><th>int32</th><th>float64</th><th>float64</th><th>float64</th></tr></thead>\n",
       "<tr><td>eFEDS J093712.8+031651</td><td>38</td><td>144.3035678286463</td><td>3.281043248079495</td><td>0.24744</td></tr>\n",
       "</table>"
      ],
      "text/plain": [
       "<Table length=1>\n",
       "          ID           ID_SRC         RA               DEC           z   \n",
       "        str22          int32       float64           float64      float64\n",
       "---------------------- ------ ----------------- ----------------- -------\n",
       "eFEDS J093712.8+031651     38 144.3035678286463 3.281043248079495 0.24744"
      ]
     },
     "execution_count": 144,
     "metadata": {},
     "output_type": "execute_result"
    }
   ],
   "source": [
    "eFEDS_clusters = Table.read('Source_Data/eFEDS_Clusters.csv')\n",
    "eFEDS_clusters = eFEDS_clusters['ID', 'ID_SRC', 'RA', 'DEC', 'z']\n",
    "print(len(eFEDS_clusters))\n",
    "eFEDS_clusters[eFEDS_clusters['ID_SRC']==38]"
   ]
  },
  {
   "cell_type": "code",
   "execution_count": 145,
   "metadata": {},
   "outputs": [
    {
     "name": "stdout",
     "output_type": "stream",
     "text": [
      "542\n"
     ]
    },
    {
     "data": {
      "text/html": [
       "<i>Row index=0</i>\n",
       "<table id=\"table2184951099008\">\n",
       "<thead><tr><th>Name</th><th>ID_SRC</th><th>F_CONT_BEST_COMB</th></tr></thead>\n",
       "<thead><tr><th>str22</th><th>int32</th><th>float64</th></tr></thead>\n",
       "<tr><td>eFEDS J093712.9+031652</td><td>38</td><td>0.124957</td></tr>\n",
       "</table>"
      ],
      "text/plain": [
       "<Row index=0>\n",
       "         Name          ID_SRC F_CONT_BEST_COMB\n",
       "        str22          int32      float64     \n",
       "---------------------- ------ ----------------\n",
       "eFEDS J093712.9+031652     38         0.124957"
      ]
     },
     "execution_count": 145,
     "metadata": {},
     "output_type": "execute_result"
    }
   ],
   "source": [
    "eFEDS_clusters_CTP = Table.read('Source_Data/eFEDS_Clusters_CTP.csv')\n",
    "eFEDS_clusters_CTP = eFEDS_clusters_CTP['Name', 'ID_SRC', 'F_CONT_BEST_COMB']\n",
    "print(len(eFEDS_clusters_CTP))\n",
    "eFEDS_clusters_CTP[0]"
   ]
  },
  {
   "cell_type": "markdown",
   "metadata": {},
   "source": [
    "Only Select clusters with a F_CONT_BEST_COMB $< 0.3$"
   ]
  },
  {
   "cell_type": "code",
   "execution_count": 146,
   "metadata": {},
   "outputs": [
    {
     "name": "stdout",
     "output_type": "stream",
     "text": [
      "453\n"
     ]
    },
    {
     "data": {
      "text/html": [
       "<i>Row index=0</i>\n",
       "<table id=\"table2185045179744\">\n",
       "<thead><tr><th>ID</th><th>ID_SRC</th><th>RA</th><th>DEC</th><th>z</th><th>F_CONT_BEST_COMB</th></tr></thead>\n",
       "<thead><tr><th>str22</th><th>int32</th><th>float64</th><th>float64</th><th>float64</th><th>float64</th></tr></thead>\n",
       "<tr><td>eFEDS J093712.8+031651</td><td>38</td><td>144.3035678286463</td><td>3.281043248079495</td><td>0.24744</td><td>0.124957</td></tr>\n",
       "</table>"
      ],
      "text/plain": [
       "<Row index=0>\n",
       "          ID           ID_SRC         RA               DEC           z    F_CONT_BEST_COMB\n",
       "        str22          int32       float64           float64      float64     float64     \n",
       "---------------------- ------ ----------------- ----------------- ------- ----------------\n",
       "eFEDS J093712.8+031651     38 144.3035678286463 3.281043248079495 0.24744         0.124957"
      ]
     },
     "execution_count": 146,
     "metadata": {},
     "output_type": "execute_result"
    }
   ],
   "source": [
    "eFEDS_clusters_CTP = eFEDS_clusters_CTP[eFEDS_clusters_CTP['F_CONT_BEST_COMB']<0.2]\n",
    "eFEDS_clusters_confirmed = join(eFEDS_clusters, eFEDS_clusters_CTP, keys = 'ID_SRC')\n",
    "eFEDS_clusters_confirmed.remove_column('Name')# this is not needed anymore\n",
    "print(len(eFEDS_clusters_confirmed))\n",
    "eFEDS_clusters_confirmed[0]"
   ]
  },
  {
   "cell_type": "markdown",
   "metadata": {},
   "source": [
    "Remove rejected clusters from the table (Rejected list from Table A2 in https://arxiv.org/pdf/2109.11807.pdf)"
   ]
  },
  {
   "cell_type": "code",
   "execution_count": 147,
   "metadata": {},
   "outputs": [
    {
     "name": "stdout",
     "output_type": "stream",
     "text": [
      "448\n"
     ]
    }
   ],
   "source": [
    "rejection_list= [1644,3334,8602,5909,8922,9463,13484,13299,11754,5702,6840]\n",
    "for reject_id in rejection_list:\n",
    "    mask = eFEDS_clusters_confirmed['ID_SRC'] != reject_id\n",
    "    eFEDS_clusters_confirmed = eFEDS_clusters_confirmed[mask]\n",
    "\n",
    "print(len(eFEDS_clusters_confirmed))"
   ]
  },
  {
   "cell_type": "markdown",
   "metadata": {},
   "source": [
    "Cross match Gaia sources to clusters within 5 arcmins"
   ]
  },
  {
   "cell_type": "code",
   "execution_count": 148,
   "metadata": {},
   "outputs": [
    {
     "name": "stdout",
     "output_type": "stream",
     "text": [
      "686\n"
     ]
    },
    {
     "data": {
      "text/html": [
       "<i>Table length=4</i>\n",
       "<table id=\"table2184950479264\" class=\"table-striped table-bordered table-condensed\">\n",
       "<thead><tr><th>Cluster_ID</th><th>Cluster_ID_SRC</th><th>Cluster_RA</th><th>Cluster_DEC</th><th>Cluster_z</th><th>source_id</th><th>source_ra</th><th>source_dec</th><th>source_redshift</th><th>separation</th></tr></thead>\n",
       "<thead><tr><th>bytes32</th><th>int32</th><th>float32</th><th>float32</th><th>float32</th><th>bytes32</th><th>float32</th><th>float32</th><th>float32</th><th>float32</th></tr></thead>\n",
       "<tr><td>eFEDS J085620.7+014649</td><td>569</td><td>134.08646</td><td>1.780459</td><td>0.72408</td><td>577631903987074048</td><td>134.11267</td><td>1.7099344</td><td>0.81609744</td><td>270.83875</td></tr>\n",
       "<tr><td>eFEDS J085620.7+014649</td><td>569</td><td>134.08646</td><td>1.780459</td><td>0.72408</td><td>577635614838556544</td><td>134.08563</td><td>1.7731572</td><td>2.311003</td><td>26.455603</td></tr>\n",
       "<tr><td>eFEDS J085620.7+014649</td><td>569</td><td>134.08646</td><td>1.780459</td><td>0.72408</td><td>577635649198296192</td><td>134.0663</td><td>1.7767442</td><td>0.7013232</td><td>73.78402</td></tr>\n",
       "<tr><td>eFEDS J085620.7+014649</td><td>569</td><td>134.08646</td><td>1.780459</td><td>0.72408</td><td>577635752277787008</td><td>134.11075</td><td>1.7883862</td><td>1.5986373</td><td>91.965324</td></tr>\n",
       "</table>"
      ],
      "text/plain": [
       "<Table length=4>\n",
       "      Cluster_ID       Cluster_ID_SRC Cluster_RA ... source_redshift separation\n",
       "       bytes32             int32       float32   ...     float32      float32  \n",
       "---------------------- -------------- ---------- ... --------------- ----------\n",
       "eFEDS J085620.7+014649            569  134.08646 ...      0.81609744  270.83875\n",
       "eFEDS J085620.7+014649            569  134.08646 ...        2.311003  26.455603\n",
       "eFEDS J085620.7+014649            569  134.08646 ...       0.7013232   73.78402\n",
       "eFEDS J085620.7+014649            569  134.08646 ...       1.5986373  91.965324"
      ]
     },
     "execution_count": 148,
     "metadata": {},
     "output_type": "execute_result"
    }
   ],
   "source": [
    "five_arcmin = 0.08333333  # degrees\n",
    "\n",
    "eFEDS_gaia_match = Table(names=('Cluster_ID', 'Cluster_ID_SRC', 'Cluster_RA', 'Cluster_DEC', 'Cluster_z', 'source_id',\n",
    "                                'source_ra', 'source_dec', 'source_redshift', 'separation'),\n",
    "                         dtype=('S', 'i', 'f', 'f', 'f', 'S', 'f', 'f', 'f', 'f'))\n",
    "\n",
    "for cluster in eFEDS_clusters_confirmed:\n",
    "    ra_1 = np.radians(cluster['RA'])\n",
    "    dec_1 = np.radians(cluster['DEC'])\n",
    "\n",
    "    ra_2 = np.radians(gaia_sources['ra'])\n",
    "    dec_2 = np.radians(gaia_sources['dec'])\n",
    "\n",
    "    separation = np.arccos(np.sin(dec_2)*np.sin(dec_1) +\n",
    "                           np.cos(dec_2)*np.cos(dec_1)*np.cos(ra_2 - ra_1))\n",
    "    matches = separation < np.radians(five_arcmin)\n",
    "    for source, distance in zip(gaia_sources[matches], separation[matches]):\n",
    "        eFEDS_gaia_match.add_row((cluster['ID'], cluster['ID_SRC'], cluster['RA'], cluster['DEC'], cluster['z'],\n",
    "                                  source['source_id'], source['ra'], source['dec'], source['redshift_qsoc'], np.rad2deg(distance)*3600))\n",
    "\n",
    "print(len(eFEDS_gaia_match))\n",
    "eFEDS_gaia_match[eFEDS_gaia_match['Cluster_ID_SRC']==569]"
   ]
  },
  {
   "cell_type": "markdown",
   "metadata": {},
   "source": [
    "Remove quasars with redshift less than Cluster_z<br>\n",
    "This is to remove quasars that may be in the foreground and quasars behind/inside clusters are needed<br>"
   ]
  },
  {
   "cell_type": "code",
   "execution_count": 149,
   "metadata": {},
   "outputs": [
    {
     "name": "stdout",
     "output_type": "stream",
     "text": [
      "639\n"
     ]
    },
    {
     "data": {
      "text/html": [
       "<i>Table length=3</i>\n",
       "<table id=\"table2185045341424\" class=\"table-striped table-bordered table-condensed\">\n",
       "<thead><tr><th>Cluster_ID</th><th>Cluster_ID_SRC</th><th>Cluster_RA</th><th>Cluster_DEC</th><th>Cluster_z</th><th>source_id</th><th>source_ra</th><th>source_dec</th><th>source_redshift</th><th>separation</th></tr></thead>\n",
       "<thead><tr><th>bytes32</th><th>int32</th><th>float32</th><th>float32</th><th>float32</th><th>bytes32</th><th>float32</th><th>float32</th><th>float32</th><th>float32</th></tr></thead>\n",
       "<tr><td>eFEDS J085620.7+014649</td><td>569</td><td>134.08646</td><td>1.780459</td><td>0.72408</td><td>577631903987074048</td><td>134.11267</td><td>1.7099344</td><td>0.81609744</td><td>270.83875</td></tr>\n",
       "<tr><td>eFEDS J085620.7+014649</td><td>569</td><td>134.08646</td><td>1.780459</td><td>0.72408</td><td>577635614838556544</td><td>134.08563</td><td>1.7731572</td><td>2.311003</td><td>26.455603</td></tr>\n",
       "<tr><td>eFEDS J085620.7+014649</td><td>569</td><td>134.08646</td><td>1.780459</td><td>0.72408</td><td>577635752277787008</td><td>134.11075</td><td>1.7883862</td><td>1.5986373</td><td>91.965324</td></tr>\n",
       "</table>"
      ],
      "text/plain": [
       "<Table length=3>\n",
       "      Cluster_ID       Cluster_ID_SRC Cluster_RA ... source_redshift separation\n",
       "       bytes32             int32       float32   ...     float32      float32  \n",
       "---------------------- -------------- ---------- ... --------------- ----------\n",
       "eFEDS J085620.7+014649            569  134.08646 ...      0.81609744  270.83875\n",
       "eFEDS J085620.7+014649            569  134.08646 ...        2.311003  26.455603\n",
       "eFEDS J085620.7+014649            569  134.08646 ...       1.5986373  91.965324"
      ]
     },
     "execution_count": 149,
     "metadata": {},
     "output_type": "execute_result"
    }
   ],
   "source": [
    "redshift_check = eFEDS_gaia_match['Cluster_z'] < eFEDS_gaia_match['source_redshift']\n",
    "eFEDS_gaia_match = eFEDS_gaia_match[redshift_check]\n",
    "print(len(eFEDS_gaia_match))\n",
    "eFEDS_gaia_match[eFEDS_gaia_match['Cluster_ID_SRC']==569]"
   ]
  },
  {
   "cell_type": "markdown",
   "metadata": {},
   "source": [
    "Next, cross match eFEDS main catalogue to gaia sources to find xray bright quasar. <br>\n",
    "Using eFEDS main catalogue ID 1 (from https://erosita.mpe.mpg.de/edr/eROSITAObservations/Catalogues/)<br>\n",
    "Converted to CSV format."
   ]
  },
  {
   "cell_type": "code",
   "execution_count": 150,
   "metadata": {},
   "outputs": [
    {
     "name": "stdout",
     "output_type": "stream",
     "text": [
      "27910\n"
     ]
    },
    {
     "data": {
      "text/html": [
       "<i>Table length=1</i>\n",
       "<table id=\"table2184950681216\" class=\"table-striped table-bordered table-condensed\">\n",
       "<thead><tr><th>Name</th><th>ID_SRC</th><th>ID_hard</th><th>RA</th><th>DEC</th><th>RADEC_ERR</th><th>RA_CORR</th><th>DEC_CORR</th><th>RADEC_ERR_CORR</th><th>EXT</th><th>EXT_ERR</th><th>EXT_LIKE</th><th>DET_LIKE</th><th>ML_RATE</th><th>ML_RATE_ERR</th><th>ML_CTS</th><th>ML_CTS_ERR</th><th>ML_FLUX</th><th>ML_FLUX_ERR</th><th>ML_EXP</th><th>ML_BKG</th><th>inArea90</th><th>DET_LIKE_b1</th><th>DET_LIKE_b2</th><th>DET_LIKE_b3</th><th>DET_LIKE_b4</th><th>DET_LIKE_s</th><th>DET_LIKE_h</th><th>DET_LIKE_u</th><th>ML_RATE_b1</th><th>ML_RATE_b2</th><th>ML_RATE_b3</th><th>ML_RATE_b4</th><th>ML_RATE_s</th><th>ML_RATE_h</th><th>ML_RATE_u</th><th>ML_RATE_ERR_b1</th><th>ML_RATE_ERR_b2</th><th>ML_RATE_ERR_b3</th><th>ML_RATE_ERR_b4</th><th>ML_RATE_ERR_s</th><th>ML_RATE_ERR_h</th><th>ML_RATE_ERR_u</th><th>ML_RATE_LOWERR_b1</th><th>ML_RATE_LOWERR_b2</th><th>ML_RATE_LOWERR_b3</th><th>ML_RATE_LOWERR_b4</th><th>ML_RATE_LOWERR_s</th><th>ML_RATE_LOWERR_h</th><th>ML_RATE_LOWERR_u</th><th>ML_RATE_UPERR_b1</th><th>ML_RATE_UPERR_b2</th><th>ML_RATE_UPERR_b3</th><th>ML_RATE_UPERR_b4</th><th>ML_RATE_UPERR_s</th><th>ML_RATE_UPERR_h</th><th>ML_RATE_UPERR_u</th><th>ML_CTS_b1</th><th>ML_CTS_b2</th><th>ML_CTS_b3</th><th>ML_CTS_b4</th><th>ML_CTS_s</th><th>ML_CTS_h</th><th>ML_CTS_u</th><th>ML_CTS_ERR_b1</th><th>ML_CTS_ERR_b2</th><th>ML_CTS_ERR_b3</th><th>ML_CTS_ERR_b4</th><th>ML_CTS_ERR_s</th><th>ML_CTS_ERR_h</th><th>ML_CTS_ERR_u</th><th>ML_CTS_LOWERR_b1</th><th>ML_CTS_LOWERR_b2</th><th>ML_CTS_LOWERR_b3</th><th>ML_CTS_LOWERR_b4</th><th>ML_CTS_LOWERR_s</th><th>ML_CTS_LOWERR_h</th><th>ML_CTS_LOWERR_u</th><th>ML_CTS_UPERR_b1</th><th>ML_CTS_UPERR_b2</th><th>ML_CTS_UPERR_b3</th><th>ML_CTS_UPERR_b4</th><th>ML_CTS_UPERR_s</th><th>ML_CTS_UPERR_h</th><th>ML_CTS_UPERR_u</th><th>ML_FLUX_b1</th><th>ML_FLUX_b2</th><th>ML_FLUX_b3</th><th>ML_FLUX_b4</th><th>ML_FLUX_s</th><th>ML_FLUX_h</th><th>ML_FLUX_u</th><th>ML_FLUX_ERR_b1</th><th>ML_FLUX_ERR_b2</th><th>ML_FLUX_ERR_b3</th><th>ML_FLUX_ERR_b4</th><th>ML_FLUX_ERR_s</th><th>ML_FLUX_ERR_h</th><th>ML_FLUX_ERR_u</th><th>ML_FLUX_LOWERR_b1</th><th>ML_FLUX_LOWERR_b2</th><th>ML_FLUX_LOWERR_b3</th><th>ML_FLUX_LOWERR_b4</th><th>ML_FLUX_LOWERR_s</th><th>ML_FLUX_LOWERR_h</th><th>ML_FLUX_LOWERR_u</th><th>ML_FLUX_UPERR_b1</th><th>ML_FLUX_UPERR_b2</th><th>ML_FLUX_UPERR_b3</th><th>ML_FLUX_UPERR_b4</th><th>ML_FLUX_UPERR_s</th><th>ML_FLUX_UPERR_h</th><th>ML_FLUX_UPERR_u</th><th>ML_EXP_b1</th><th>ML_EXP_b2</th><th>ML_EXP_b3</th><th>ML_EXP_b4</th><th>ML_EXP_s</th><th>ML_EXP_h</th><th>ML_EXP_u</th><th>ML_BKG_b1</th><th>ML_BKG_b2</th><th>ML_BKG_b3</th><th>ML_BKG_b4</th><th>ML_BKG_s</th><th>ML_BKG_h</th><th>ML_BKG_u</th><th>APE_CTS_b1</th><th>APE_CTS_b2</th><th>APE_CTS_b3</th><th>APE_CTS_b4</th><th>APE_CTS_s</th><th>APE_CTS_h</th><th>APE_CTS_u</th><th>APE_EXP_b1</th><th>APE_EXP_b2</th><th>APE_EXP_b3</th><th>APE_EXP_b4</th><th>APE_EXP_s</th><th>APE_EXP_h</th><th>APE_EXP_u</th><th>APE_BKG_b1</th><th>APE_BKG_b2</th><th>APE_BKG_b3</th><th>APE_BKG_b4</th><th>APE_BKG_s</th><th>APE_BKG_h</th><th>APE_BKG_u</th><th>APE_RADIUS_b1</th><th>APE_RADIUS_b2</th><th>APE_RADIUS_b3</th><th>APE_RADIUS_b4</th><th>APE_RADIUS_s</th><th>APE_RADIUS_h</th><th>APE_RADIUS_u</th><th>APE_POIS_b1</th><th>APE_POIS_b2</th><th>APE_POIS_b3</th><th>APE_POIS_b4</th><th>APE_POIS_s</th><th>APE_POIS_h</th><th>APE_POIS_u</th></tr></thead>\n",
       "<thead><tr><th>str22</th><th>int32</th><th>int32</th><th>float64</th><th>float64</th><th>float64</th><th>float64</th><th>float64</th><th>float64</th><th>float64</th><th>float64</th><th>float64</th><th>float64</th><th>float64</th><th>float64</th><th>float64</th><th>float64</th><th>float64</th><th>float64</th><th>float64</th><th>float64</th><th>str5</th><th>float64</th><th>float64</th><th>float64</th><th>float64</th><th>float64</th><th>float64</th><th>float64</th><th>float64</th><th>float64</th><th>float64</th><th>float64</th><th>float64</th><th>float64</th><th>float64</th><th>float64</th><th>float64</th><th>float64</th><th>float64</th><th>float64</th><th>float64</th><th>float64</th><th>float64</th><th>float64</th><th>float64</th><th>float64</th><th>float64</th><th>float64</th><th>float64</th><th>float64</th><th>float64</th><th>float64</th><th>float64</th><th>float64</th><th>float64</th><th>float64</th><th>float64</th><th>float64</th><th>float64</th><th>float64</th><th>float64</th><th>float64</th><th>float64</th><th>float64</th><th>float64</th><th>float64</th><th>float64</th><th>float64</th><th>float64</th><th>float64</th><th>float64</th><th>float64</th><th>float64</th><th>float64</th><th>float64</th><th>float64</th><th>float64</th><th>float64</th><th>float64</th><th>float64</th><th>float64</th><th>float64</th><th>float64</th><th>float64</th><th>float64</th><th>float64</th><th>float64</th><th>float64</th><th>float64</th><th>float64</th><th>float64</th><th>float64</th><th>float64</th><th>float64</th><th>float64</th><th>float64</th><th>float64</th><th>float64</th><th>float64</th><th>float64</th><th>float64</th><th>float64</th><th>float64</th><th>float64</th><th>float64</th><th>float64</th><th>float64</th><th>float64</th><th>float64</th><th>float64</th><th>float64</th><th>float64</th><th>float64</th><th>float64</th><th>float64</th><th>float64</th><th>float64</th><th>float64</th><th>float64</th><th>float64</th><th>float64</th><th>float64</th><th>float64</th><th>float64</th><th>float64</th><th>float64</th><th>int32</th><th>int32</th><th>int32</th><th>int32</th><th>int32</th><th>int32</th><th>int32</th><th>float64</th><th>float64</th><th>float64</th><th>float64</th><th>float64</th><th>float64</th><th>float64</th><th>float64</th><th>float64</th><th>float64</th><th>float64</th><th>float64</th><th>float64</th><th>float64</th><th>float64</th><th>float64</th><th>float64</th><th>float64</th><th>float64</th><th>float64</th><th>float64</th><th>float64</th><th>float64</th><th>float64</th><th>float64</th><th>float64</th><th>float64</th><th>float64</th></tr></thead>\n",
       "<tr><td>eFEDS J085620.7+014649</td><td>569</td><td>-99</td><td>134.08647772448563</td><td>1.780520420834052</td><td>2.1898437</td><td>134.08645872539776</td><td>1.7804590250684431</td><td>2.6438535594788353</td><td>13.446845</td><td>1.8243866</td><td>51.74816</td><td>309.07455</td><td>0.21983103</td><td>0.017235257</td><td>257.87756</td><td>20.218191</td><td>2.046844e-13</td><td>1.6047725e-14</td><td>1173.0717</td><td>7.13711</td><td>true</td><td>27.570053100585938</td><td>162.44134521484375</td><td>130.62106323242188</td><td>19.769535064697266</td><td>292.2939147949219</td><td>11.708708763122559</td><td>0.0</td><td>0.026235321536660194</td><td>0.09642857313156128</td><td>0.08343975245952606</td><td>0.03717038780450821</td><td>0.18176385760307312</td><td>0.029626142233610153</td><td>0.0</td><td>0.006057856138795614</td><td>0.010987252928316593</td><td>0.010483568534255028</td><td>0.009308609180152416</td><td>0.015375355258584023</td><td>0.009029730223119259</td><td>0.0042005437426269054</td><td>0.005669253412634134</td><td>0.010565572418272495</td><td>0.010050601325929165</td><td>0.008685601875185966</td><td>0.014841930009424686</td><td>0.008393299765884876</td><td>0.0</td><td>0.006446458399295807</td><td>0.011408933438360691</td><td>0.01091653574258089</td><td>0.009931615553796291</td><td>0.015908779576420784</td><td>0.009666161611676216</td><td>0.0042005437426269054</td><td>31.915597915649414</td><td>118.15973663330078</td><td>98.99931335449219</td><td>33.439857482910156</td><td>217.08326721191406</td><td>24.86438751220703</td><td>0.0</td><td>7.369458198547363</td><td>13.463342666625977</td><td>12.438508033752441</td><td>8.374369621276855</td><td>18.363014221191406</td><td>7.57839822769165</td><td>2.382122755050659</td><td>6.8967180252075195</td><td>12.946632385253906</td><td>11.924802780151367</td><td>7.813889026641846</td><td>17.725936889648438</td><td>7.044260025024414</td><td>0.0</td><td>7.842197895050049</td><td>13.980052947998047</td><td>12.952214241027832</td><td>8.93484878540039</td><td>19.000091552734375</td><td>8.112537384033203</td><td>2.382122755050659</td><td>2.846405770617675e-14</td><td>7.095553728263597e-14</td><td>8.228772323942512e-14</td><td>2.133776471963088e-13</td><td>1.5338722649841625e-13</td><td>2.582924398217487e-13</td><td>0.0</td><td>6.572481221804163e-15</td><td>8.084806782057336e-15</td><td>1.0338825027276649e-14</td><td>5.343633001930908e-14</td><td>1.2974984084080821e-14</td><td>7.872476633403363e-14</td><td>1.5131641674234567e-13</td><td>5.985275836284604e-15</td><td>7.734679663786749e-15</td><td>1.0030539597429954e-14</td><td>5.179249702182663e-14</td><td>1.2750799460064296e-14</td><td>7.460710922755492e-14</td><td>0.0</td><td>6.805804699102844e-15</td><td>8.352074355743883e-15</td><td>1.0894746137689836e-14</td><td>5.922251079294727e-14</td><td>1.3667336542838495e-14</td><td>8.592143652379897e-14</td><td>1.5403534025550114e-13</td><td>1216.5125732421875</td><td>1225.3602294921875</td><td>1186.4765625</td><td>899.6370239257812</td><td>1194.3148193359375</td><td>839.2718505859375</td><td>567.0986938476562</td><td>2.227891206741333</td><td>2.380023241043091</td><td>2.189283847808838</td><td>2.5065646171569824</td><td>4.593836307525635</td><td>2.5160226821899414</td><td>2.569005250930786</td><td>10</td><td>25</td><td>28</td><td>10</td><td>55</td><td>8</td><td>1</td><td>1217.0360107421875</td><td>1225.6231689453125</td><td>1186.6297607421875</td><td>899.9482421875</td><td>1194.5093994140625</td><td>839.765625</td><td>567.2733764648438</td><td>0.672204852104187</td><td>0.7598872184753418</td><td>0.7874231934547424</td><td>1.3040785789489746</td><td>1.5483524799346924</td><td>1.4216992855072021</td><td>2.637042760848999</td><td>4.617472171783447</td><td>4.760734558105469</td><td>5.033686637878418</td><td>6.149267196655273</td><td>4.940593719482422</td><td>6.41114616394043</td><td>8.59570598602295</td><td>2.821973987821025e-09</td><td>3.242913641353593e-29</td><td>1.9039647304161675e-33</td><td>1.2053043292326038e-06</td><td>0.0</td><td>0.00011823648674180731</td><td>0.9284273982048035</td></tr>\n",
       "</table>"
      ],
      "text/plain": [
       "<Table length=1>\n",
       "         Name          ID_SRC ...       APE_POIS_h           APE_POIS_u    \n",
       "        str22          int32  ...        float64              float64      \n",
       "---------------------- ------ ... ---------------------- ------------------\n",
       "eFEDS J085620.7+014649    569 ... 0.00011823648674180731 0.9284273982048035"
      ]
     },
     "execution_count": 150,
     "metadata": {},
     "output_type": "execute_result"
    }
   ],
   "source": [
    "eFEDS_main = Table.read('Source_Data/eFEDS_main.csv')\n",
    "print(len(eFEDS_main))\n",
    "eFEDS_main[eFEDS_main['ID_SRC']== 569]"
   ]
  },
  {
   "cell_type": "markdown",
   "metadata": {},
   "source": [
    "Remove Unneccesary Columns"
   ]
  },
  {
   "cell_type": "code",
   "execution_count": 151,
   "metadata": {},
   "outputs": [
    {
     "data": {
      "text/html": [
       "<i>Row index=0</i>\n",
       "<table id=\"table2185075567152\">\n",
       "<thead><tr><th>Name</th><th>ID_SRC</th><th>RA_CORR</th><th>DEC_CORR</th><th>EXT</th><th>EXT_LIKE</th><th>ML_FLUX</th></tr></thead>\n",
       "<thead><tr><th>str22</th><th>int32</th><th>float64</th><th>float64</th><th>float64</th><th>float64</th><th>float64</th></tr></thead>\n",
       "<tr><td>eFEDS J093700.9+010545</td><td>1</td><td>144.25383285520846</td><td>1.0959204090623735</td><td>0.0</td><td>0.0</td><td>6.2095207e-12</td></tr>\n",
       "</table>"
      ],
      "text/plain": [
       "<Row index=0>\n",
       "         Name          ID_SRC      RA_CORR            DEC_CORR        EXT   EXT_LIKE    ML_FLUX   \n",
       "        str22          int32       float64            float64       float64 float64     float64   \n",
       "---------------------- ------ ------------------ ------------------ ------- -------- -------------\n",
       "eFEDS J093700.9+010545      1 144.25383285520846 1.0959204090623735     0.0      0.0 6.2095207e-12"
      ]
     },
     "execution_count": 151,
     "metadata": {},
     "output_type": "execute_result"
    }
   ],
   "source": [
    "eFEDS_main = eFEDS_main['Name', 'ID_SRC', 'RA_CORR', 'DEC_CORR', 'EXT', 'EXT_LIKE', 'ML_FLUX']\n",
    "eFEDS_main[0]"
   ]
  },
  {
   "cell_type": "markdown",
   "metadata": {},
   "source": [
    "Remove sources with an EXT $> 0.0$\n",
    "since these are likely extended sources and quasars should be point sources"
   ]
  },
  {
   "cell_type": "code",
   "execution_count": 152,
   "metadata": {},
   "outputs": [
    {
     "name": "stdout",
     "output_type": "stream",
     "text": [
      "27369\n"
     ]
    }
   ],
   "source": [
    "eFEDS_main = eFEDS_main[eFEDS_main['EXT'] == 0.0]\n",
    "print(len(eFEDS_main))"
   ]
  },
  {
   "cell_type": "markdown",
   "metadata": {},
   "source": [
    "Match eFEDS sources to gaia quasars"
   ]
  },
  {
   "cell_type": "code",
   "execution_count": 153,
   "metadata": {},
   "outputs": [
    {
     "name": "stdout",
     "output_type": "stream",
     "text": [
      "321\n"
     ]
    },
    {
     "data": {
      "text/html": [
       "<i>Table length=1</i>\n",
       "<table id=\"table2184951096800\" class=\"table-striped table-bordered table-condensed\">\n",
       "<thead><tr><th>Cluster_ID</th><th>Cluster_ID_SRC</th><th>Cluster_RA</th><th>Cluster_DEC</th><th>Cluster_z</th><th>source_id</th><th>source_ra</th><th>source_dec</th><th>source_redshift</th><th>separation</th><th>Name</th><th>ID_SRC</th><th>RA_CORR</th><th>DEC_CORR</th><th>EXT</th><th>EXT_LIKE</th><th>ML_FLUX</th></tr></thead>\n",
       "<thead><tr><th>bytes32</th><th>int32</th><th>float32</th><th>float32</th><th>float32</th><th>bytes32</th><th>float32</th><th>float32</th><th>float32</th><th>float32</th><th>str22</th><th>int32</th><th>float64</th><th>float64</th><th>float64</th><th>float64</th><th>float64</th></tr></thead>\n",
       "<tr><td>eFEDS J085620.7+014649</td><td>569</td><td>134.08646</td><td>1.780459</td><td>0.72408</td><td>577635752277787008</td><td>134.11075</td><td>1.7883862</td><td>1.5986373</td><td>91.965324</td><td>eFEDS J085626.5+014718</td><td>3125</td><td>134.11082404541906</td><td>1.7884510074558067</td><td>0.0</td><td>0.0</td><td>4.4600273e-14</td></tr>\n",
       "</table>"
      ],
      "text/plain": [
       "<Table length=1>\n",
       "      Cluster_ID       Cluster_ID_SRC Cluster_RA ... EXT_LIKE    ML_FLUX   \n",
       "       bytes32             int32       float32   ... float64     float64   \n",
       "---------------------- -------------- ---------- ... -------- -------------\n",
       "eFEDS J085620.7+014649            569  134.08646 ...      0.0 4.4600273e-14"
      ]
     },
     "execution_count": 153,
     "metadata": {},
     "output_type": "execute_result"
    }
   ],
   "source": [
    "max_separation = 10*u.arcsec\n",
    "quasar_coords = SkyCoord(ra=eFEDS_gaia_match['source_ra']*u.degree, dec=eFEDS_gaia_match['source_dec']*u.degree)\n",
    "eFEDS_coords = SkyCoord(ra=eFEDS_main['RA_CORR']*u.degree, dec=eFEDS_main['DEC_CORR']*u.degree)\n",
    "idx, d2d, d3d = quasar_coords.match_to_catalog_sky(eFEDS_coords)\n",
    "\n",
    "print(np.count_nonzero(d2d<max_separation))\n",
    "\n",
    "eFEDS_gaia_match = eFEDS_gaia_match[d2d<max_separation]\n",
    "eFEDS_main_match = eFEDS_main[idx[d2d<max_separation]]\n",
    "\n",
    "for col in eFEDS_main_match.colnames:\n",
    "    eFEDS_gaia_match.add_column(eFEDS_main_match[col], name= col)\n",
    "\n",
    "eFEDS_gaia_match[eFEDS_gaia_match['Cluster_ID_SRC']==569]"
   ]
  },
  {
   "cell_type": "markdown",
   "metadata": {},
   "source": [
    "Save table"
   ]
  },
  {
   "cell_type": "code",
   "execution_count": 154,
   "metadata": {},
   "outputs": [],
   "source": [
    "eFEDS_gaia_match.write('Source_Data/eFEDS_gaia_match.csv', format='csv')"
   ]
  },
  {
   "cell_type": "code",
   "execution_count": null,
   "metadata": {},
   "outputs": [],
   "source": []
  }
 ],
 "metadata": {
  "kernelspec": {
   "display_name": "Python 3.8.5 ('base')",
   "language": "python",
   "name": "python3"
  },
  "language_info": {
   "codemirror_mode": {
    "name": "ipython",
    "version": 3
   },
   "file_extension": ".py",
   "mimetype": "text/x-python",
   "name": "python",
   "nbconvert_exporter": "python",
   "pygments_lexer": "ipython3",
   "version": "3.8.5"
  },
  "orig_nbformat": 4,
  "vscode": {
   "interpreter": {
    "hash": "9b8edf2a7b9ea589f60c2e3cca288fc784a58a69306b5d12142a0a7a54d6c011"
   }
  }
 },
 "nbformat": 4,
 "nbformat_minor": 2
}
